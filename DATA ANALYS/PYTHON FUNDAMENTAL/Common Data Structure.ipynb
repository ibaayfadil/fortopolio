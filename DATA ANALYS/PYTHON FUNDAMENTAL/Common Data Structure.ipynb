{
 "cells": [
  {
   "cell_type": "code",
   "execution_count": 1,
   "metadata": {},
   "outputs": [
    {
     "name": "stdout",
     "output_type": "stream",
     "text": [
      "[]\n",
      "[1, 2, 3, 'example', 3.289]\n"
     ]
    }
   ],
   "source": [
    "# List\n",
    "\n",
    "data = [] #create empty data\n",
    "print(data)\n",
    "data = [1, 2, 3, 'example', 3.289] #creating list with data\n",
    "print(data)"
   ]
  },
  {
   "cell_type": "code",
   "execution_count": 2,
   "metadata": {},
   "outputs": [
    {
     "name": "stdout",
     "output_type": "stream",
     "text": [
      "{'first': 'python', 'second': 'java'}\n",
      "{'first': 'python', 'second': 'C++'}\n",
      "{'first': 'python', 'second': 'C++', 'third': 'golang'}\n"
     ]
    }
   ],
   "source": [
    "# Dictionary\n",
    "\n",
    "data = {'first': 'python', 'second': 'java'}\n",
    "print(data)\n",
    "data['second'] = 'C++' #changing element\n",
    "print(data)\n",
    "data['third'] = 'golang' #adding key-value pair\n",
    "print(data)"
   ]
  },
  {
   "cell_type": "code",
   "execution_count": 6,
   "metadata": {},
   "outputs": [
    {
     "name": "stdout",
     "output_type": "stream",
     "text": [
      "(1, 2, 3, 'iqbal fadhlillah')\n",
      "1\n",
      "(1, 2, 3, 'iqbal fadhlillah')\n",
      "f\n"
     ]
    }
   ],
   "source": [
    "# Tuple\n",
    "\n",
    "data = (1, 2, 3, 'iqbal fadhlillah') #create tuple\n",
    "print(data)\n",
    "print(data[0])\n",
    "print(data[:])\n",
    "print(data[3][6])"
   ]
  },
  {
   "cell_type": "code",
   "execution_count": 7,
   "metadata": {},
   "outputs": [
    {
     "name": "stdout",
     "output_type": "stream",
     "text": [
      "{1, 2, 3, 4, 5}\n",
      "{1, 2, 3, 4, 5}\n"
     ]
    }
   ],
   "source": [
    "# Sets\n",
    "\n",
    "data = {1, 2, 3, 4, 5, 5, 5, 5,} #create set\n",
    "print(data)\n",
    "data.add(4) #add element to set\n",
    "print(data)\n",
    "\n",
    "data_set = {1, 2, 3, 4}\n",
    "data_set_2 = {3, 4, 5, 6}\n",
    "print(data_set.union(data_set_2), '========', data_set | data_set_2) \n",
    "print(data_set.intersection(data_set_2), '========', data_set & data_set_2) \n",
    "print(data_set.difference(data_set_2), '========', data_set - data_set_2)\n",
    "print(data_set.symmetric_difference(data_set_2), '========', data_set ^ data_set_2)\n",
    "data_set.clear()\n",
    "print(data_set)  "
   ]
  }
 ],
 "metadata": {
  "kernelspec": {
   "display_name": "Python 3",
   "language": "python",
   "name": "python3"
  },
  "language_info": {
   "codemirror_mode": {
    "name": "ipython",
    "version": 3
   },
   "file_extension": ".py",
   "mimetype": "text/x-python",
   "name": "python",
   "nbconvert_exporter": "python",
   "pygments_lexer": "ipython3",
   "version": "3.11.5"
  },
  "orig_nbformat": 4
 },
 "nbformat": 4,
 "nbformat_minor": 2
}
