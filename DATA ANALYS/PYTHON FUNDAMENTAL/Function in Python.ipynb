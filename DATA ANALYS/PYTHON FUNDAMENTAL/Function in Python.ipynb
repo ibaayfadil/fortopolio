{
 "cells": [
  {
   "cell_type": "code",
   "execution_count": null,
   "metadata": {},
   "outputs": [],
   "source": [
    "# Funsction Arguments\n",
    "# Function Definition \n",
    "def greet(name):\n",
    "    \"\"\"\n",
    "    Fungsi ini menyapa nama\n",
    "    orang yang masuk sebagai\n",
    "    sebuah parameter\n",
    "    \"\"\"\n",
    "    print(\"Hello, \" + name + \". Good morning! Welcome to your class\")\n",
    "\n",
    "print(greet.__doc__) # Untuk menampilkan docstream atau keterangan dari fungsi nya untuk apa\n",
    "greet('Iqbal Fadhlillah')"
   ]
  },
  {
   "cell_type": "code",
   "execution_count": null,
   "metadata": {},
   "outputs": [],
   "source": [
    "# Python Default Arguments\n",
    "# Function Definition \n",
    "def greet(name, msg=\"Good Morning!\"):\n",
    "    \"\"\"\n",
    "    Fungsi ini menyapa nama orang yang masuk sebagai sebuah parameter\n",
    "\n",
    "    Jika pesan tidak diberikan, defaultnya adalah \"Good Morning!\"\n",
    "    \"\"\"\n",
    "    print(\"Hello, \" + name + ', ' + msg)\n",
    "\n",
    "greet('Iqbal Fadhlillah')\n",
    "greet(\"Iqbal Fadhlillah\", \"Apa Kabar\")"
   ]
  },
  {
   "cell_type": "code",
   "execution_count": null,
   "metadata": {},
   "outputs": [],
   "source": [
    "# Python Keyword Arguments\n",
    "\n",
    "# 2 keyword arguments\n",
    "greet(name = \"Iqbal\", msg = \"How do you do?\")\n",
    "\n",
    "# 2 keyword arguments (out of order)\n",
    "greet(msg = \"How do you do?\", name = \"Iqbal\")\n",
    "\n",
    "# 1 positional, 1 keyword argument\n",
    "greet(\"Iqbal\", msg = \"How do you do?\")"
   ]
  },
  {
   "cell_type": "code",
   "execution_count": null,
   "metadata": {},
   "outputs": [],
   "source": [
    "# Python Arbitrary Arguments\n",
    "\n",
    "def greet(*names):\n",
    "    \"\"\"\n",
    "    Fungsi ini menyapa semua orang dalam nama tuple.\n",
    "    \"\"\"\n",
    "\n",
    "    # names is a tuple with arguments\n",
    "    for name in names:\n",
    "        print(\"Hello\", name)\n",
    "\n",
    "greet(\"Iqbal\", \"Ibay\", \"Kentung\", \"Fadil\", \"Ali\", \"Wawan\")"
   ]
  },
  {
   "cell_type": "code",
   "execution_count": null,
   "metadata": {},
   "outputs": [],
   "source": [
    "# Python Recursion \n",
    "\n",
    "# Berikut ini adalah contoh fungsi rekursif untuk mencari faktorial suatu bilangan bulat. Faktorial suatu bilangan adalah hasil kali \n",
    "# semua bilangan bulat dari 1 sampai dengan bilangan tsb. Misalnya, faktorial dari 6 (dilambangkan dengan 6!) adalah 12345*6 = 720\n",
    "\n",
    "def factorial(x):\n",
    "    \"\"\"Ini adalah fungsi rekursif untuk menemukan faktorial dari bilangan bulat\"\"\" \n",
    "    if x == 1 :\n",
    "        return 1\n",
    "    else:\n",
    "        return (x * factorial(x-1))\n",
    "    \n",
    "num = 6\n",
    "print(\"Nilai factorial dari\", num, \"adalah\", factorial(num))"
   ]
  },
  {
   "cell_type": "code",
   "execution_count": null,
   "metadata": {},
   "outputs": [],
   "source": [
    "# Anonymous Function \n",
    "\n",
    "# Fungsi anonim adalah fungsi yang didefinisikan tanpa nama. Fungsi anonim didefinisikan menggunakan kata kunci lambda.\n",
    "# f = lambda a: a * a\n",
    "\n",
    "\n",
    "# Program to show the use of lambda functions\n",
    "double = lambda x: x*2\n",
    "print(double(5))\n",
    "\n",
    "\n",
    "# Progeam to filter out only the even items from a list\n",
    "data = [1, 3, 5, 2, 4, 6, 7, 8, 9, 10, 11, 13]\n",
    "new_data = list(filter(lambda x: (x%2 == 1) , data))\n",
    "print(new_data)\n",
    "\n",
    "\n",
    "# Progeam to double each item in a list using map()\n",
    "data = [1, 3, 5, 2, 4, 6, 7, 8, 9, 10, 11, 13]\n",
    "new_data = list(map(lambda x: x * 2 , data))\n",
    "print(new_data)"
   ]
  },
  {
   "cell_type": "code",
   "execution_count": null,
   "metadata": {},
   "outputs": [],
   "source": [
    "# Global Variable and Local Variable\n",
    "\n",
    "x = \"global\"\n",
    "\n",
    "def foo():\n",
    "    print(\"x dalam :\", x)\n",
    "\n",
    "foo()\n",
    "print(\"x luar :\", x)\n",
    "\n",
    "# =======================================\n",
    "y = \"globe\"\n",
    "\n",
    "def fo():\n",
    "    global y\n",
    "    y = y * 2\n",
    "    print(y)\n",
    "\n",
    "fo()\n",
    "\n",
    "#========================================\n",
    "z = \"glob\"\n",
    "\n",
    "def f():\n",
    "    global z\n",
    "    a = \"local\"\n",
    "    z = z * 2\n",
    "    print(z)\n",
    "    print(a)\n",
    "\n",
    "f()"
   ]
  },
  {
   "cell_type": "code",
   "execution_count": null,
   "metadata": {},
   "outputs": [],
   "source": [
    "# Non-Local Variable \n",
    "\n",
    "def outer():\n",
    "    x = \"local\"\n",
    "\n",
    "    def inner():\n",
    "        nonlocal x\n",
    "        x = \"ini bukan local\"\n",
    "        print(\"inner :\", x)\n",
    "    \n",
    "    inner()\n",
    "    print(\"outer: \", x)\n",
    "\n",
    "outer()"
   ]
  }
 ],
 "metadata": {
  "kernelspec": {
   "display_name": "Python 3",
   "language": "python",
   "name": "python3"
  },
  "language_info": {
   "codemirror_mode": {
    "name": "ipython",
    "version": 3
   },
   "file_extension": ".py",
   "mimetype": "text/x-python",
   "name": "python",
   "nbconvert_exporter": "python",
   "pygments_lexer": "ipython3",
   "version": "3.11.5"
  },
  "orig_nbformat": 4
 },
 "nbformat": 4,
 "nbformat_minor": 2
}
